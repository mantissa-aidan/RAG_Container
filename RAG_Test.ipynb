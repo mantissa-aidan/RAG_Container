{
 "cells": [
  {
   "cell_type": "code",
   "execution_count": 1,
   "metadata": {},
   "outputs": [
    {
     "ename": "ModuleNotFoundError",
     "evalue": "No module named 'chromadb'",
     "output_type": "error",
     "traceback": [
      "\u001b[1;31m---------------------------------------------------------------------------\u001b[0m",
      "\u001b[1;31mModuleNotFoundError\u001b[0m                       Traceback (most recent call last)",
      "Cell \u001b[1;32mIn[1], line 2\u001b[0m\n\u001b[0;32m      1\u001b[0m \u001b[38;5;66;03m# Import the RAG system\u001b[39;00m\n\u001b[1;32m----> 2\u001b[0m \u001b[38;5;28;01mfrom\u001b[39;00m \u001b[38;5;21;01mRAG\u001b[39;00m \u001b[38;5;28;01mimport\u001b[39;00m RAGSystem\n\u001b[0;32m      4\u001b[0m \u001b[38;5;66;03m# Initialize the system (you can specify different models if needed)\u001b[39;00m\n\u001b[0;32m      5\u001b[0m rag \u001b[38;5;241m=\u001b[39m RAGSystem(model_name\u001b[38;5;241m=\u001b[39m\u001b[38;5;124m\"\u001b[39m\u001b[38;5;124mllama2\u001b[39m\u001b[38;5;124m\"\u001b[39m, embed_model_name\u001b[38;5;241m=\u001b[39m\u001b[38;5;124m\"\u001b[39m\u001b[38;5;124mllama2\u001b[39m\u001b[38;5;124m\"\u001b[39m)\n",
      "File \u001b[1;32mf:\\Git Repos\\RAG\\RAG.py:1\u001b[0m\n\u001b[1;32m----> 1\u001b[0m \u001b[38;5;28;01mimport\u001b[39;00m \u001b[38;5;21;01mchromadb\u001b[39;00m\n\u001b[0;32m      2\u001b[0m \u001b[38;5;28;01mfrom\u001b[39;00m \u001b[38;5;21;01mlangchain_community\u001b[39;00m\u001b[38;5;21;01m.\u001b[39;00m\u001b[38;5;21;01membeddings\u001b[39;00m \u001b[38;5;28;01mimport\u001b[39;00m OllamaEmbeddings\n\u001b[0;32m      3\u001b[0m \u001b[38;5;28;01mfrom\u001b[39;00m \u001b[38;5;21;01mlangchain_community\u001b[39;00m\u001b[38;5;21;01m.\u001b[39;00m\u001b[38;5;21;01mllms\u001b[39;00m \u001b[38;5;28;01mimport\u001b[39;00m Ollama\n",
      "\u001b[1;31mModuleNotFoundError\u001b[0m: No module named 'chromadb'"
     ]
    }
   ],
   "source": [
    "# Import the RAG system\n",
    "from RAG import RAGSystem\n",
    "\n",
    "# Initialize the system (you can specify different models if needed)\n",
    "rag = RAGSystem(model_name=\"llama2\", embed_model_name=\"llama2\")\n",
    "\n",
    "# Load documents from your ./documents directory\n",
    "documents = rag.load_documents()\n",
    "\n",
    "# Process the documents if any were loaded successfully\n",
    "if documents:\n",
    "    num_chunks = rag.process_documents(documents)\n",
    "    print(f\"Processed {num_chunks} chunks from Strata reports\")\n",
    "\n",
    "# Now you can query your documents\n",
    "# Example:\n",
    "response = rag.query(\"What are the major maintenance issues identified in the building?\")\n",
    "print(response)\n",
    "\n",
    "# Or get a comprehensive summary if you have property IDs set up\n",
    "# summary = rag.summarize_property(\"property_id\")\n",
    "# print(summary)"
   ]
  }
 ],
 "metadata": {
  "kernelspec": {
   "display_name": "Python 3",
   "language": "python",
   "name": "python3"
  },
  "language_info": {
   "codemirror_mode": {
    "name": "ipython",
    "version": 3
   },
   "file_extension": ".py",
   "mimetype": "text/x-python",
   "name": "python",
   "nbconvert_exporter": "python",
   "pygments_lexer": "ipython3",
   "version": "3.10.11"
  }
 },
 "nbformat": 4,
 "nbformat_minor": 2
}
